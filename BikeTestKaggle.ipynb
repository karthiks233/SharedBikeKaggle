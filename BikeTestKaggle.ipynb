{
 "cells": [
  {
   "cell_type": "code",
   "execution_count": 1,
   "metadata": {},
   "outputs": [],
   "source": [
    "\n",
    "import numpy as np\n",
    "import matplotlib.pyplot as plt\n",
    "import pandas as pd\n",
    "import seaborn as sns\n",
    "from datetime import datetime\n"
   ]
  },
  {
   "cell_type": "code",
   "execution_count": 86,
   "metadata": {},
   "outputs": [],
   "source": [
    "df = pd.read_csv(r'C:\\Users\\karthik\\Downloads\\day.csv')\n"
   ]
  },
  {
   "cell_type": "code",
   "execution_count": 87,
   "metadata": {},
   "outputs": [],
   "source": [
    "\n",
    "df = pd.get_dummies(df,columns=['season','weathersit'],drop_first=True)  \n",
    "\n",
    "\n",
    "df.drop('dteday',axis=1,inplace=True)\n",
    "df.drop('instant',axis=1,inplace=True)\n",
    "df.drop('holiday',axis=1,inplace=True)"
   ]
  },
  {
   "cell_type": "code",
   "execution_count": 88,
   "metadata": {},
   "outputs": [],
   "source": [
    "for i in df.columns:\n",
    "    df[i].fillna(value = df[i].median())"
   ]
  },
  {
   "cell_type": "code",
   "execution_count": 89,
   "metadata": {
    "scrolled": true
   },
   "outputs": [
    {
     "name": "stdout",
     "output_type": "stream",
     "text": [
      "RMLSE for registered: 0.14238799060563823\n"
     ]
    },
    {
     "data": {
      "image/png": "[encoded data removed]",
      "text/plain": [
       "<Figure size 432x288 with 1 Axes>"
      ]
     },
     "metadata": {
      "needs_background": "light"
     },
     "output_type": "display_data"
    },
    {
     "name": "stdout",
     "output_type": "stream",
     "text": [
      "RMLSE for casual: 0.3035771611552824\n"
     ]
    },
    {
     "data": {
      "image/png": "[encoded data removed]",
      "text/plain": [
       "<Figure size 432x288 with 1 Axes>"
      ]
     },
     "metadata": {
      "needs_background": "light"
     },
     "output_type": "display_data"
    },
    {
     "name": "stdout",
     "output_type": "stream",
     "text": [
      "RMLSE for the whole data: 0.15102547005593392\n"
     ]
    }
   ],
   "source": [
    "\n",
    "# Model for registered\n",
    "x = df.drop(['casual','registered','cnt'],axis = 1)\n",
    "y = df.registered\n",
    "\n",
    "from sklearn.model_selection import train_test_split\n",
    "x_train,x_test,y_train,y_test = train_test_split(x,y,test_size = 0.30 ,random_state = 2)\n",
    "\n",
    "from sklearn.ensemble import RandomForestRegressor\n",
    "\n",
    "\n",
    "\n",
    "rf = RandomForestRegressor(random_state=0)\n",
    "rf_params = {'n_estimators':np.arange(25,150,25),'max_depth':np.arange(1,11,2),'min_samples_leaf':np.arange(2,15,3)}\n",
    "from sklearn.model_selection import GridSearchCV\n",
    "gs_rf = GridSearchCV(rf,rf_params,cv=3)\n",
    "gs_rf.fit(x_train,y_train)\n",
    "\n",
    "a = gs_rf.best_params_\n",
    "\n",
    "\n",
    "RF = RandomForestRegressor(n_estimators=a['n_estimators'],max_depth=a['max_depth'],min_samples_leaf=a['min_samples_leaf'],random_state=0)\n",
    "\n",
    "model_1 = RF.fit(x,y)\n",
    "reg_pred = model_1.predict(x)\n",
    "from sklearn.metrics import mean_squared_log_error\n",
    "msle=mean_squared_log_error(reg_pred,y)\n",
    "rmsle=np.sqrt(msle)\n",
    "print('RMLSE for registered:',rmsle) \n",
    "importances = RF.feature_importances_\n",
    "plt.title(' Feature Importances Registered ')\n",
    "plt.barh(range(len(importances)), importances, color='g', align='center')\n",
    "plt.yticks(range(len(importances)), x.columns)\n",
    "plt.xlabel('Relative Importance')\n",
    "plt.show()\n",
    "\n",
    "\n",
    "# Model for casual\n",
    "x = df.drop(['casual','registered','cnt'],axis = 1)\n",
    "y = df.casual\n",
    "\n",
    "from sklearn.model_selection import train_test_split\n",
    "x_train,x_test,y_train,y_test = train_test_split(x,y,test_size = 0.30 ,random_state = 2)\n",
    "\n",
    "from sklearn.ensemble import RandomForestRegressor\n",
    "\n",
    "\n",
    "\n",
    "rf = RandomForestRegressor(random_state=0)\n",
    "rf_params = {'n_estimators':np.arange(25,150,25),'max_depth':np.arange(1,11,2),'min_samples_leaf':np.arange(2,15,3)}\n",
    "from sklearn.model_selection import GridSearchCV\n",
    "gs_rf = GridSearchCV(rf,rf_params,cv=3)\n",
    "gs_rf.fit(x_train,y_train)\n",
    "\n",
    "a = gs_rf.best_params_\n",
    "\n",
    "\n",
    "RF = RandomForestRegressor(n_estimators=a['n_estimators'],max_depth=a['max_depth'],min_samples_leaf=a['min_samples_leaf'],random_state=0)\n",
    "\n",
    "model_1 = RF.fit(x,y)\n",
    "casual_pred = model_1.predict(x)\n",
    "from sklearn.metrics import mean_squared_log_error\n",
    "msle=mean_squared_log_error(casual_pred,y)\n",
    "rmsle=np.sqrt(msle)\n",
    "print('RMLSE for casual:',rmsle) \n",
    "importances = RF.feature_importances_\n",
    "plt.title(' Feature Importances casual ')\n",
    "plt.barh(range(len(importances)), importances, color='g', align='center')\n",
    "plt.yticks(range(len(importances)), x.columns)\n",
    "plt.xlabel('Relative Importance')\n",
    "plt.show()\n",
    "\n",
    "total_pred=reg_pred+casual_pred\n",
    "pred=pd.DataFrame()\n",
    "pred['pred']=total_pred\n",
    "pred.sort_index(inplace = True)\n",
    "\n",
    "from sklearn.metrics import mean_squared_log_error\n",
    "msle=mean_squared_log_error(df['cnt'],total_pred)\n",
    "rmsle=np.sqrt(msle)\n",
    "print('RMLSE for the whole data:',rmsle)"
   ]
  },
  {
   "cell_type": "code",
   "execution_count": null,
   "metadata": {},
   "outputs": [],
   "source": []
  }
 ],
 "metadata": {
  "kernelspec": {
   "display_name": "Python 3",
   "language": "python",
   "name": "python3"
  },
  "language_info": {
   "codemirror_mode": {
    "name": "ipython",
    "version": 3
   },
   "file_extension": ".py",
   "mimetype": "text/x-python",
   "name": "python",
   "nbconvert_exporter": "python",
   "pygments_lexer": "ipython3",
   "version": "3.7.6"
  }
 },
 "nbformat": 4,
 "nbformat_minor": 4
}
